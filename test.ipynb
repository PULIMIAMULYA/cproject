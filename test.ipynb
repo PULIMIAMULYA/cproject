{
    "cells": [
        {
            "cell_type": "markdown",
            "id": "79c84ea7",
            "metadata": {},
            "source": [
                "<h1>Extracting and Visualizing Stock Data</h1>"
            ]
        },
        {
            "cell_type": "markdown",
            "id": "11d5729f",
            "metadata": {},
            "source": [
                "<h2>Description</h2>\n",
                "\n",
                "Extracting essential data from a dataset and displaying it is a necessary part of data science; therefore individuals can make correct decisions based on the data. In this project, I will extract some stock data, I will then display this data in a graph."
            ]
        },
        {
            "cell_type": "code",
            "execution_count": null,
            "id": "7c3bbf1e-a6cc-4750-8cb4-c78720ddea32",
            "metadata": {},
            "outputs": [],
            "source": [
                "#!pip install yfinance\n",
                "#!pip install pandas\n",
                "#!pip install requests\n",
                "#!pip install bs4\n",
                "#!pip install plotly"
            ]
        },
        {
            "cell_type": "markdown",
            "id": "dd342e0d",
            "metadata": {},
            "source": [
                "**You will require the following libraries:**"
            ]
        },
        {
            "cell_type": "code",
            "execution_count": null,
            "id": "8eea9995-491c-4dfe-b996-05dde0ed7b7e",
            "metadata": {},
            "outputs": [],
            "source": [
                "import pandas as pd\n",
                "import yfinance as yf\n",
                "import numpy as np\n",
                "import requests\n",
                "from bs4 import BeautifulSoup\n",
                "import matplotlib.pyplot as plt\n",
                "%matplotlib inline"
            ]
        },
        {
            "cell_type": "markdown",
            "id": "3f2210ed-0f57-41d6-8a6c-c73ec1f8fa58",
            "metadata": {},
            "source": [
                "## Question 1: Use yfinance to Extract Tesla Stock Data"
            ]
        },
        {
            "cell_type": "code",
            "execution_count": null,
            "id": "8cf0376c-2336-42bd-9815-ca9e35c8824e",
            "metadata": {},
            "outputs": [],
            "source": [
                "tesla = yf.Ticker(\"TSLA\")"
            ]
        },
        {
            "cell_type": "code",
            "execution_count": null,
            "id": "404dba90-25f7-4153-afa9-e9877c7dcc8d",
            "metadata": {},
            "outputs": [],
            "source": [
                "tesla_data = tesla.history(period=\"max\")"
            ]
        },
        {
            "cell_type": "code",
            "execution_count": null,
            "id": "c52cb842-8d04-40c7-a252-df062adf2d9b",
            "metadata": {},
            "outputs": [],
            "source": [
                "tesla_data.reset_index(inplace=True)\n",
                "tesla_data.head()"
            ]
        },
        {
            "cell_type": "markdown",
            "id": "896949ee-681b-4247-9669-2228f2ca7de1",
            "metadata": {},
            "source": [
                "## Question 2: Use Webscraping to Extract Tesla Revenue Data"
            ]
        },
        {
            "cell_type": "code",
            "execution_count": null,
            "id": "eb2b1c0d-598e-4fd1-bb4e-2cbc12950b6b",
            "metadata": {},
            "outputs": [],
            "source": [
                "url = \"https://www.macrotrends.net/stocks/charts/TSLA/tesla/revenue\""
            ]
        },
        {
            "cell_type": "code",
            "execution_count": null,
            "id": "5f94373d-0905-41b0-a505-d59fa2e2b248",
            "metadata": {},
            "outputs": [],
            "source": [
                "html_data = requests.get(url).text"
            ]
        },
        {
            "cell_type": "code",
            "execution_count": null,
            "id": "9ab7cc56-ab61-4d47-9e5e-3467d8a443d3",
            "metadata": {},
            "outputs": [],
            "source": [
                "soup = BeautifulSoup(html_data, \"html.parser\")\n",
                "soup.find_all('title')"
            ]
        },
        {
            "cell_type": "code",
            "execution_count": null,
            "id": "0ec970c3-1806-48fc-90fa-e62d4150cd11",
            "metadata": {},
            "outputs": [],
            "source": [
                "tesla_revenue = pd.DataFrame(columns = ['Date', 'Revenue'])\n",
                "\n",
                "for row in soup.find_all(\"tbody\")[1].find_all(\"tr\"):\n",
                "    col = row.find_all(\"td\")\n",
                "    date = col[0].text\n",
                "    revenue = col[1].text.replace(\"$\", \"\").replace(\",\", \"\")\n",
                "    \n",
                "    tesla_revenue = tesla_revenue.append({\"Date\": date, \"Revenue\": revenue}, ignore_index = True)"
            ]
        },
        {
            "cell_type": "code",
            "execution_count": null,
            "id": "246f5a01-9d85-4d83-9a00-64a865614c84",
            "metadata": {},
            "outputs": [],
            "source": [
                "tesla_revenue.dropna(inplace=True)\n",
                "tesla_revenue = tesla_revenue[tesla_revenue['Revenue'] != \"\"]"
            ]
        },
        {
            "cell_type": "code",
            "execution_count": null,
            "id": "82216301-e0ba-42de-93c2-ee4cbe72e101",
            "metadata": {},
            "outputs": [],
            "source": [
                "tesla_revenue.tail()"
            ]
        },
        {
            "cell_type": "markdown",
            "id": "1210b685-1ee7-4649-aee2-89163a505752",
            "metadata": {},
            "source": [
                "## Question 3: Use yfinance to Extract GME Stock Data"
            ]
        },
        {
            "cell_type": "code",
            "execution_count": null,
            "id": "07dd7546-02e5-44aa-ba21-5a2771f701be",
            "metadata": {},
            "outputs": [],
            "source": [
                "gamestop = yf.Ticker(\"GME\")"
            ]
        },
        {
            "cell_type": "code",
            "execution_count": null,
            "id": "afdffe63-f990-4c84-acc6-5cf08cb7f7e7",
            "metadata": {},
            "outputs": [],
            "source": [
                "gamestop_data = gamestop.history(period=\"max\")"
            ]
        },
        {
            "cell_type": "code",
            "execution_count": null,
            "id": "b34c2bdf-f4d7-4e20-9529-e13520fb88b8",
            "metadata": {},
            "outputs": [],
            "source": [
                "gamestop_data.reset_index(inplace=True)\n",
                "gamestop_data.head()"
            ]
        },
        {
            "cell_type": "markdown",
            "id": "18218de1-e85e-4a7f-8d2c-6b71f570f535",
            "metadata": {},
            "source": [
                "## Question 4: Use Webscraping to Extract GME Revenue Data"
            ]
        },
        {
            "cell_type": "code",
            "execution_count": null,
            "id": "81cc553e-0923-4aed-8443-2e2f1c3fa0f4",
            "metadata": {},
            "outputs": [],
            "source": [
                "url1 = \"https://www.macrotrends.net/stocks/charts/GME/gamestop/revenue\""
            ]
        },
        {
            "cell_type": "code",
            "execution_count": null,
            "id": "fb0d6e1a-bf8d-4df0-ac73-95e60a5f3f6e",
            "metadata": {},
            "outputs": [],
            "source": [
                "html_data = requests.get(url1).text"
            ]
        },
        {
            "cell_type": "code",
            "execution_count": null,
            "id": "e5c0f744-6cd4-4a3e-be4d-a118001b6876",
            "metadata": {},
            "outputs": [],
            "source": [
                "soup = BeautifulSoup(html_data, \"html.parser\")\n",
                "soup.find_all('title')"
            ]
        },
        {
            "cell_type": "code",
            "execution_count": null,
            "id": "2be90851-09f8-4a5e-ad0f-deddaf7f4334",
            "metadata": {},
            "outputs": [],
            "source": [
                "gme_revenue = pd.DataFrame(columns=['Date', 'Revenue'])\n",
                "\n",
                "for table in soup.find_all('table'):\n",
                "\n",
                "    if ('GameStop Quarterly Revenue' in table.find('th').text):\n",
                "        rows = table.find_all('tr')\n",
                "        \n",
                "        for row in rows:\n",
                "            col = row.find_all('td')\n",
                "            \n",
                "            if col != []:\n",
                "                date = col[0].text\n",
                "                revenue = col[1].text.replace(',','').replace('$','')\n",
                "\n",
                "                gme_revenue = gme_revenue.append({\"Date\":date, \"Revenue\":revenue}, ignore_index=True)"
            ]
        },
        {
            "cell_type": "code",
            "execution_count": null,
            "id": "0fa856d4-6b0f-459b-bb85-fcc2648a26b5",
            "metadata": {},
            "outputs": [],
            "source": [
                "gme_revenue.tail()"
            ]
        },
        {
            "cell_type": "markdown",
            "id": "e29a6c64-5fb6-4500-890c-ce1c74ce5af1",
            "metadata": {},
            "source": [
                "## Question 5: Plot Tesla Stock Graph"
            ]
        },
        {
            "cell_type": "code",
            "execution_count": null,
            "id": "7bf33722-ce26-4de8-92e6-758e24aad4be",
            "metadata": {},
            "outputs": [],
            "source": [
                "import plotly.graph_objects as go\n",
                "from plotly.subplots import make_subplots"
            ]
        },
        {
            "cell_type": "code",
            "execution_count": null,
            "id": "4cd6fe45-eb77-48b2-839f-df96a586e357",
            "metadata": {},
            "outputs": [],
            "source": [
                "def make_graph(stock_data, revenue_data, stock):\n",
                "    fig = make_subplots(rows=2, cols=1, shared_xaxes=True, subplot_titles=(\"Historical Share Price\", \"Historical Revenue\"), vertical_spacing = .3)\n",
                "    fig.add_trace(go.Scatter(x=pd.to_datetime(stock_data.Date, infer_datetime_format=True), y=stock_data.Close.astype(\"float\"), name=\"Share Price\"), row=1, col=1)\n",
                "    fig.add_trace(go.Scatter(x=pd.to_datetime(revenue_data.Date, infer_datetime_format=True), y=revenue_data.Revenue.astype(\"float\"), name=\"Revenue\"), row=2, col=1)\n",
                "    fig.update_xaxes(title_text=\"Date\", row=1, col=1)\n",
                "    fig.update_xaxes(title_text=\"Date\", row=2, col=1)\n",
                "    fig.update_yaxes(title_text=\"Price ($US)\", row=1, col=1)\n",
                "    fig.update_yaxes(title_text=\"Revenue ($US Millions)\", row=2, col=1)\n",
                "    fig.update_layout(showlegend=False,\n",
                "    height=900,\n",
                "    title=stock,\n",
                "    xaxis_rangeslider_visible=True)\n",
                "    fig.show()"
            ]
        },
        {
            "cell_type": "code",
            "execution_count": null,
            "id": "8d9a72a3-1db3-4e9d-9add-988e7cbde8e0",
            "metadata": {},
            "outputs": [],
            "source": [
                "make_graph(tesla_data, tesla_revenue, 'Tesla')"
            ]
        },
        {
            "cell_type": "markdown",
            "id": "130adb81-0bc1-4b29-a6da-bc212db85ca9",
            "metadata": {},
            "source": [
                "## Question 6: Plot GameStop Stock Graph"
            ]
        },
        {
            "cell_type": "code",
            "execution_count": null,
            "id": "7dc9f802-41ce-4487-bf25-06bc3ded0a11",
            "metadata": {},
            "outputs": [],
            "source": [
                "make_graph(gamestop_data, gme_revenue, 'GameStop')"
            ]
        },
        {
            "cell_type": "code",
            "execution_count": null,
            "id": "9e83e379-712c-43de-a56d-4d10875dc4fe",
            "metadata": {},
            "outputs": [],
            "source": [
                "print(\"Completed\")"
            ]
        },
        {
            "cell_type": "code",
            "execution_count": null,
            "id": "0ffb638e",
            "metadata": {},
            "outputs": [],
            "source": []
        }
    ],
    "metadata": {
        "kernelspec": {
            "display_name": "Python 3.9",
            "language": "python",
            "name": "python3"
        },
        "language_info": {
            "codemirror_mode": {
                "name": "ipython",
                "version": 3
            },
            "file_extension": ".py",
            "mimetype": "text/x-python",
            "name": "python",
            "nbconvert_exporter": "python",
            "pygments_lexer": "ipython3",
            "version": "3.7.0"
        }
    },
    "nbformat": 4,
    "nbformat_minor": 5
}
